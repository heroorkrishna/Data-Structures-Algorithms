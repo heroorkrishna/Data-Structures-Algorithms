{
  "nbformat": 4,
  "nbformat_minor": 0,
  "metadata": {
    "colab": {
      "name": "Searching.ipynb",
      "provenance": [],
      "collapsed_sections": []
    },
    "kernelspec": {
      "name": "python3",
      "display_name": "Python 3"
    }
  },
  "cells": [
    {
      "cell_type": "markdown",
      "metadata": {
        "id": "KIaie2mxDLqR",
        "colab_type": "text"
      },
      "source": [
        "**Generating Random List of 10**6 Integers**"
      ]
    },
    {
      "cell_type": "code",
      "metadata": {
        "id": "4P85ByN-Csm8",
        "colab_type": "code",
        "colab": {}
      },
      "source": [
        "import numpy as np\n",
        "import time"
      ],
      "execution_count": 1,
      "outputs": []
    },
    {
      "cell_type": "code",
      "metadata": {
        "id": "_o0ajW3VDTfX",
        "colab_type": "code",
        "colab": {
          "base_uri": "https://localhost:8080/",
          "height": 51
        },
        "outputId": "1d6fb108-4887-476d-fd63-7f7821abecad"
      },
      "source": [
        "li = list(np.random.randint(0,10**10, 10**6))\n",
        "print(type(li))\n",
        "print(len(li))"
      ],
      "execution_count": 2,
      "outputs": [
        {
          "output_type": "stream",
          "text": [
            "<class 'list'>\n",
            "1000000\n"
          ],
          "name": "stdout"
        }
      ]
    },
    {
      "cell_type": "markdown",
      "metadata": {
        "id": "TjxYN2iwDX77",
        "colab_type": "text"
      },
      "source": [
        "**Linear Search**"
      ]
    },
    {
      "cell_type": "code",
      "metadata": {
        "id": "UhlnsrAnDcBE",
        "colab_type": "code",
        "colab": {}
      },
      "source": [
        "x = li[10000]\n"
      ],
      "execution_count": 3,
      "outputs": []
    },
    {
      "cell_type": "code",
      "metadata": {
        "id": "zRm_sGkLDhKi",
        "colab_type": "code",
        "colab": {
          "base_uri": "https://localhost:8080/",
          "height": 51
        },
        "outputId": "b4743c1c-05cd-43ad-e917-1f3d04ed0402"
      },
      "source": [
        "# Single element search\n",
        "\n",
        "# x = np.random.randint(0,10**5)\n",
        "\n",
        "start = time.time()\n",
        "\n",
        "for i in range(len(li)):\n",
        "    if li[i]==x:\n",
        "        print(\"Found at position \", i)\n",
        "        break\n",
        "else:\n",
        "    print(\"Number not found!\")\n",
        "\n",
        "print(\"Total time taken in secs: \", time.time() - start)"
      ],
      "execution_count": 4,
      "outputs": [
        {
          "output_type": "stream",
          "text": [
            "Found at position  10000\n",
            "Total time taken in secs:  0.001344442367553711\n"
          ],
          "name": "stdout"
        }
      ]
    },
    {
      "cell_type": "code",
      "metadata": {
        "id": "QllUbcacDx-b",
        "colab_type": "code",
        "colab": {
          "base_uri": "https://localhost:8080/",
          "height": 51
        },
        "outputId": "ebfdc430-d25e-429f-f320-9c0619851294"
      },
      "source": [
        "# Time for average search on 1000 elements\n",
        "\n",
        "test = np.random.randint(0,10**10, 1000)\n",
        "\n",
        "start = time.time()\n",
        "\n",
        "for x in test:\n",
        "\n",
        "    for i in range(len(li)):\n",
        "        if li[i]==x:\n",
        "            #print(\"Found at position \", i)\n",
        "            break\n",
        "    else:\n",
        "        pass\n",
        "        #print(\"Number not found!\")\n",
        "\n",
        "end = time.time()\n",
        "print(\"Total time taken for 1000 elements in secs: \", end - start)\n",
        "print(\"Average time taken in secs: \", (end - start)/1000)\n"
      ],
      "execution_count": 5,
      "outputs": [
        {
          "output_type": "stream",
          "text": [
            "Total time taken for 1000 elements in secs:  106.05506920814514\n",
            "Average time taken in secs:  0.10605506920814514\n"
          ],
          "name": "stdout"
        }
      ]
    },
    {
      "cell_type": "code",
      "metadata": {
        "id": "oCOmysdRD-bO",
        "colab_type": "code",
        "colab": {}
      },
      "source": [
        "# Checking the trend in increase of time with respect to search query N\n",
        "from matplotlib import pyplot as plt\n",
        "N = []\n",
        "time_taken = []\n",
        "avg_time_taken = []\n",
        "\n",
        "n = 1\n",
        "while n < 10**3:\n",
        "    N += [n]\n",
        "    test = np.random.randint(0,10**10, n)\n",
        "\n",
        "    start = time.time() \n",
        "\n",
        "    for x in test:\n",
        "\n",
        "        for i in range(len(li)):\n",
        "            if li[i]==x:\n",
        "                #print(\"Found at position \", i)\n",
        "                break\n",
        "        else:\n",
        "            pass\n",
        "            #print(\"Number not found!\")\n",
        "\n",
        "    end = time.time()\n",
        "    time_taken += [end-start] \n",
        "    avg_time_taken += [(end-start)/n]\n",
        "    n*=10"
      ],
      "execution_count": 6,
      "outputs": []
    },
    {
      "cell_type": "code",
      "metadata": {
        "id": "YQIT00VuEFfH",
        "colab_type": "code",
        "colab": {
          "base_uri": "https://localhost:8080/",
          "height": 312
        },
        "outputId": "4973f627-ca41-4e9d-dd3d-ae3f18d368de"
      },
      "source": [
        "plt.title(\"N vs Time taken\")\n",
        "\n",
        "plt.plot(N, time_taken, label=\"total time\")\n",
        "plt.plot(N, avg_time_taken, label=\"avg time\")\n",
        "\n",
        "plt.legend(loc='upper left')\n",
        "plt.xlabel('Number of search queries')\n",
        "plt.ylabel('Time (sec)')"
      ],
      "execution_count": 7,
      "outputs": [
        {
          "output_type": "execute_result",
          "data": {
            "text/plain": [
              "Text(0, 0.5, 'Time (sec)')"
            ]
          },
          "metadata": {
            "tags": []
          },
          "execution_count": 7
        },
        {
          "output_type": "display_data",
          "data": {
            "image/png": "[encoded data removed]",
            "text/plain": [
              "<Figure size 432x288 with 1 Axes>"
            ]
          },
          "metadata": {
            "tags": [],
            "needs_background": "light"
          }
        }
      ]
    },
    {
      "cell_type": "markdown",
      "metadata": {
        "id": "Fgc4zJdVEYs3",
        "colab_type": "text"
      },
      "source": [
        "**Binary Search**"
      ]
    },
    {
      "cell_type": "code",
      "metadata": {
        "id": "Qs5tXExcEdqN",
        "colab_type": "code",
        "colab": {}
      },
      "source": [
        "li2 = [1,2,3,4,5]"
      ],
      "execution_count": 8,
      "outputs": []
    },
    {
      "cell_type": "code",
      "metadata": {
        "id": "Uu3q4yc-EiV7",
        "colab_type": "code",
        "colab": {}
      },
      "source": [
        "def bsearch(x, start, end):\n",
        "    global li2\n",
        "    mid = (start + end) // 2 \n",
        "    if start+1==end:\n",
        "        if li2[start]==x:\n",
        "            return \"Found at position {}\".format(start)        \n",
        "        elif li2[end]==x:\n",
        "            return \"Found at position {}\".format(end)       \n",
        "        else:\n",
        "            return \"Number not found!\"        \n",
        "    if li2[mid]==x:\n",
        "        return \"Found at position {}\".format(mid)        \n",
        "    elif start==end:\n",
        "        return \"Number not found!\"\n",
        "    else:\n",
        "        if x < li2[mid]:\n",
        "            return bsearch(x, start, mid-1)\n",
        "        else:\n",
        "            return bsearch(x, mid+1, end)"
      ],
      "execution_count": 9,
      "outputs": []
    },
    {
      "cell_type": "code",
      "metadata": {
        "id": "PbntS3doEnAU",
        "colab_type": "code",
        "colab": {
          "base_uri": "https://localhost:8080/",
          "height": 35
        },
        "outputId": "1e9037c6-00fc-432f-f0e9-12f16f9fa58d"
      },
      "source": [
        "bsearch(2, 0, len(li2)-1)"
      ],
      "execution_count": 10,
      "outputs": [
        {
          "output_type": "execute_result",
          "data": {
            "application/vnd.google.colaboratory.intrinsic": {
              "type": "string"
            },
            "text/plain": [
              "'Found at position 1'"
            ]
          },
          "metadata": {
            "tags": []
          },
          "execution_count": 10
        }
      ]
    },
    {
      "cell_type": "code",
      "metadata": {
        "id": "qXK1EJSfEtBq",
        "colab_type": "code",
        "colab": {
          "base_uri": "https://localhost:8080/",
          "height": 51
        },
        "outputId": "4d8ae651-84fb-410f-8ce8-f88e1bef2cbf"
      },
      "source": [
        "# Single element search\n",
        "\n",
        "x = np.random.randint(0,10**10)\n",
        "\n",
        "start = time.time()\n",
        "\n",
        "li2 = sorted(li)\n",
        "res = bsearch(x, 0, len(li)-1)\n",
        "print(res)\n",
        "\n",
        "print(\"Total time taken in secs: \", time.time() - start)"
      ],
      "execution_count": 11,
      "outputs": [
        {
          "output_type": "stream",
          "text": [
            "Number not found!\n",
            "Total time taken in secs:  0.8717598915100098\n"
          ],
          "name": "stdout"
        }
      ]
    },
    {
      "cell_type": "code",
      "metadata": {
        "id": "5eLKgLbxE6Lc",
        "colab_type": "code",
        "colab": {
          "base_uri": "https://localhost:8080/",
          "height": 68
        },
        "outputId": "8894bb37-5df5-44f2-bfbc-7d15dec6c567"
      },
      "source": [
        "# Time for average search on 100 elements\n",
        "\n",
        "test = np.random.randint(0,10**10, 100)\n",
        "\n",
        "start = time.time()\n",
        "\n",
        "li2 = sorted(li)\n",
        "print(\"Sorted\")\n",
        "for x in test:\n",
        "    res = bsearch(x, 0, len(li)-1)\n",
        "\n",
        "end = time.time()\n",
        "print(\"Total time taken for 100 elements in secs: \", end - start)\n",
        "print(\"Average time taken in secs: \", (end - start)/100)"
      ],
      "execution_count": 12,
      "outputs": [
        {
          "output_type": "stream",
          "text": [
            "Sorted\n",
            "Total time taken for 100 elements in secs:  0.8992617130279541\n",
            "Average time taken in secs:  0.00899261713027954\n"
          ],
          "name": "stdout"
        }
      ]
    },
    {
      "cell_type": "code",
      "metadata": {
        "id": "KIvxbDYQE-Jx",
        "colab_type": "code",
        "colab": {
          "base_uri": "https://localhost:8080/",
          "height": 448
        },
        "outputId": "c071b151-d3d9-4962-8617-a3a66e2a8072"
      },
      "source": [
        "# Checking the trend in increase of time with respect to search query N\n",
        "from matplotlib import pyplot as plt\n",
        "N = []\n",
        "time_taken = []\n",
        "avg_time_taken = []\n",
        "\n",
        "n = 1\n",
        "while n < 10**8:\n",
        "    print(\"Processing for N = \",n)\n",
        "    N += [n]\n",
        "    test = np.random.randint(0,10**10, n)\n",
        "\n",
        "    start = time.time()\n",
        "\n",
        "    li2 = sorted(li)\n",
        "    for x in test:\n",
        "        bsearch(x, 0, len(li)-1)\n",
        "\n",
        "    end = time.time()\n",
        "    time_taken += [end-start] \n",
        "    avg_time_taken += [(end-start)/n]\n",
        "    n*=10\n",
        "\n",
        "plt.title(\"N vs Time taken - Binary Search\")\n",
        "\n",
        "plt.plot(N, time_taken, label=\"total time\")\n",
        "plt.plot(N, avg_time_taken, label=\"avg time\")\n",
        "\n",
        "plt.legend(loc='upper left')\n",
        "plt.xlabel('Number of search queries')\n",
        "plt.ylabel('Time (sec)')"
      ],
      "execution_count": 13,
      "outputs": [
        {
          "output_type": "stream",
          "text": [
            "Processing for N =  1\n",
            "Processing for N =  10\n",
            "Processing for N =  100\n",
            "Processing for N =  1000\n",
            "Processing for N =  10000\n",
            "Processing for N =  100000\n",
            "Processing for N =  1000000\n",
            "Processing for N =  10000000\n"
          ],
          "name": "stdout"
        },
        {
          "output_type": "execute_result",
          "data": {
            "text/plain": [
              "Text(0, 0.5, 'Time (sec)')"
            ]
          },
          "metadata": {
            "tags": []
          },
          "execution_count": 13
        },
        {
          "output_type": "display_data",
          "data": {
            "image/png": "[encoded data removed]",
            "text/plain": [
              "<Figure size 432x288 with 1 Axes>"
            ]
          },
          "metadata": {
            "tags": [],
            "needs_background": "light"
          }
        }
      ]
    }
  ]
}