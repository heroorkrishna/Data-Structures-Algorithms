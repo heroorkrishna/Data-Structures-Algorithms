{
  "nbformat": 4,
  "nbformat_minor": 0,
  "metadata": {
    "colab": {
      "name": "Sorting.ipynb",
      "provenance": []
    },
    "kernelspec": {
      "name": "python3",
      "display_name": "Python 3"
    }
  },
  "cells": [
    {
      "cell_type": "markdown",
      "metadata": {
        "id": "ZzItur_2HUuk",
        "colab_type": "text"
      },
      "source": [
        "**Different Sorting Technique**\n",
        "\n",
        "* Bubble Sort\n",
        "* Insertion Sort\n",
        "* Merge Sort\n",
        "* Quick Sort\n",
        "* Heap Sort"
      ]
    },
    {
      "cell_type": "code",
      "metadata": {
        "id": "cxSgiK5vHhry",
        "colab_type": "code",
        "colab": {
          "base_uri": "https://localhost:8080/",
          "height": 54
        },
        "outputId": "398433a0-6517-4144-9d03-d78170e0a30c"
      },
      "source": [
        "# Generating Random List\n",
        "\n",
        "import random, time\n",
        "n = 100\n",
        "orignal_li = random.sample(range(1, 2*n), n)\n",
        "print(orignal_li)"
      ],
      "execution_count": 1,
      "outputs": [
        {
          "output_type": "stream",
          "text": [
            "[193, 153, 77, 152, 59, 66, 71, 108, 150, 116, 76, 173, 51, 103, 157, 62, 35, 136, 5, 192, 11, 92, 144, 75, 179, 115, 3, 98, 13, 109, 12, 187, 178, 159, 60, 132, 80, 185, 117, 18, 42, 133, 120, 4, 88, 99, 95, 155, 40, 50, 130, 27, 129, 15, 154, 43, 21, 146, 34, 165, 169, 127, 9, 174, 29, 55, 118, 199, 198, 197, 122, 102, 113, 141, 90, 140, 101, 36, 65, 148, 139, 85, 162, 128, 145, 14, 26, 110, 39, 160, 82, 186, 17, 142, 37, 175, 156, 84, 81, 180]\n"
          ],
          "name": "stdout"
        }
      ]
    },
    {
      "cell_type": "markdown",
      "metadata": {
        "id": "otNmMQ5CHrVj",
        "colab_type": "text"
      },
      "source": [
        "**Bubble Sort**"
      ]
    },
    {
      "cell_type": "code",
      "metadata": {
        "id": "UKGIJQM9HwT-",
        "colab_type": "code",
        "colab": {
          "base_uri": "https://localhost:8080/",
          "height": 54
        },
        "outputId": "2bb6386a-1944-4d1e-e1ba-f74697e59820"
      },
      "source": [
        "li = orignal_li\n",
        "for i in range(n-1):\n",
        "    swap = 0\n",
        "    for j in range(n-i-1):\n",
        "        if li[j]>li[j+1]:\n",
        "            temp = li[j]\n",
        "            li[j]=li[j+1]\n",
        "            li[j+1] = temp\n",
        "            swap = 1\n",
        "    if swap==0:\n",
        "        break\n",
        "print(li)"
      ],
      "execution_count": 3,
      "outputs": [
        {
          "output_type": "stream",
          "text": [
            "[3, 4, 5, 9, 11, 12, 13, 14, 15, 17, 18, 21, 26, 27, 29, 34, 35, 36, 37, 39, 40, 42, 43, 50, 51, 55, 59, 60, 62, 65, 66, 71, 75, 76, 77, 80, 81, 82, 84, 85, 88, 90, 92, 95, 98, 99, 101, 102, 103, 108, 109, 110, 113, 115, 116, 117, 118, 120, 122, 127, 128, 129, 130, 132, 133, 136, 139, 140, 141, 142, 144, 145, 146, 148, 150, 152, 153, 154, 155, 156, 157, 159, 160, 162, 165, 169, 173, 174, 175, 178, 179, 180, 185, 186, 187, 192, 193, 197, 198, 199]\n"
          ],
          "name": "stdout"
        }
      ]
    },
    {
      "cell_type": "markdown",
      "metadata": {
        "id": "wx7lYq2tH5fO",
        "colab_type": "text"
      },
      "source": [
        "**Insertion Sort**"
      ]
    },
    {
      "cell_type": "code",
      "metadata": {
        "id": "FaPS3eWTH4n8",
        "colab_type": "code",
        "colab": {
          "base_uri": "https://localhost:8080/",
          "height": 54
        },
        "outputId": "1259b0ff-b5cc-4d1b-c621-29673b39e20d"
      },
      "source": [
        "n = 100\n",
        "li = random.sample(range(1, 2*n), n)\n",
        "for i in range(n-1):\n",
        "    while i>0 and li[i-1]>li[i]:\n",
        "        temp = li[i-1]\n",
        "        li[i-1]=li[i]\n",
        "        li[i] = temp\n",
        "        i-=1\n",
        "print(li)"
      ],
      "execution_count": 4,
      "outputs": [
        {
          "output_type": "stream",
          "text": [
            "[1, 3, 4, 6, 7, 8, 9, 10, 14, 15, 17, 20, 24, 26, 27, 30, 34, 36, 38, 40, 43, 44, 45, 47, 50, 51, 52, 56, 58, 59, 61, 62, 66, 69, 70, 72, 73, 74, 75, 82, 84, 86, 91, 92, 102, 103, 104, 105, 106, 107, 109, 110, 112, 113, 114, 119, 120, 122, 124, 128, 135, 136, 137, 138, 139, 140, 142, 143, 144, 145, 146, 149, 153, 155, 156, 158, 160, 163, 167, 168, 171, 172, 173, 174, 176, 177, 178, 180, 184, 185, 186, 187, 188, 190, 191, 193, 197, 198, 199, 55]\n"
          ],
          "name": "stdout"
        }
      ]
    },
    {
      "cell_type": "markdown",
      "metadata": {
        "id": "eUJrtpqHIBsu",
        "colab_type": "text"
      },
      "source": [
        "**Merge Sort**"
      ]
    },
    {
      "cell_type": "code",
      "metadata": {
        "id": "eR_X6AplIGVu",
        "colab_type": "code",
        "colab": {
          "base_uri": "https://localhost:8080/",
          "height": 54
        },
        "outputId": "6d596057-3d94-4646-f557-103d5af5977d"
      },
      "source": [
        "li = orignal_li.copy()\n",
        "\n",
        "def merge(left, right):\n",
        "    combined = []\n",
        "    l, r = 0,0\n",
        "    while l<len(left) and r<len(right):\n",
        "        if left[l]<right[r]:\n",
        "            combined += [left[l]]\n",
        "            l+=1\n",
        "        else:\n",
        "            combined += [right[r]]\n",
        "            r+=1\n",
        "    combined += left[l:]\n",
        "    combined += right[r:]\n",
        "    #print(left, right, combined)\n",
        "    return combined\n",
        "\n",
        "def merge_sort(A, start, end):\n",
        "    if start==end:\n",
        "        return [A[start]]\n",
        "    mid = (start+end)//2\n",
        "    left = merge_sort(A, start, mid)\n",
        "    right = merge_sort(A, mid+1, end)\n",
        "    #print(mid, left, right)\n",
        "    return merge(left, right)\n",
        "\n",
        "print(merge_sort(li, 0, len(li)-1))"
      ],
      "execution_count": 5,
      "outputs": [
        {
          "output_type": "stream",
          "text": [
            "[3, 4, 5, 9, 11, 12, 13, 14, 15, 17, 18, 21, 26, 27, 29, 34, 35, 36, 37, 39, 40, 42, 43, 50, 51, 55, 59, 60, 62, 65, 66, 71, 75, 76, 77, 80, 81, 82, 84, 85, 88, 90, 92, 95, 98, 99, 101, 102, 103, 108, 109, 110, 113, 115, 116, 117, 118, 120, 122, 127, 128, 129, 130, 132, 133, 136, 139, 140, 141, 142, 144, 145, 146, 148, 150, 152, 153, 154, 155, 156, 157, 159, 160, 162, 165, 169, 173, 174, 175, 178, 179, 180, 185, 186, 187, 192, 193, 197, 198, 199]\n"
          ],
          "name": "stdout"
        }
      ]
    },
    {
      "cell_type": "markdown",
      "metadata": {
        "id": "CioPOp-eIWup",
        "colab_type": "text"
      },
      "source": [
        "**Heap Sort**"
      ]
    },
    {
      "cell_type": "code",
      "metadata": {
        "id": "fnpUIr6IIc7e",
        "colab_type": "code",
        "colab": {
          "base_uri": "https://localhost:8080/",
          "height": 68
        },
        "outputId": "d05ebee0-b9e3-4a16-e42f-ea157446aefc"
      },
      "source": [
        "import math\n",
        "li = [\"x\",1,2,3,5,8,10,7]\n",
        "n = len(li)-1\n",
        "\n",
        "def max_heapify(A,r):\n",
        "    l = [[A[r],r]]\n",
        "    if 2*r < len(A): l += [[A[2*r],2*r]]\n",
        "    if 2*r+1 < len(A): l += [[A[2*r+1],2*r+1]]\n",
        "    l.sort(reverse=True)\n",
        "    k = l[0][1]\n",
        "    if r!=k:\n",
        "        temp = A[k]\n",
        "        A[k] = A[r]\n",
        "        A[r] = temp\n",
        "        return max_heapify(A,k)\n",
        "    return A\n",
        "\n",
        "def build_heap(B,n):  \n",
        "    for i in range(math.ceil(n/2)-1, 0, -1):\n",
        "        B = max_heapify(B,i)\n",
        "    return B\n",
        "\n",
        "print(li)\n",
        "x = build_heap(li.copy(), len(li))\n",
        "print(\"Heap\",x, li)\n",
        "\n",
        "\n",
        "def extract_max(A):\n",
        "    mn = A[0]\n",
        "    A[0] = A[-1]\n",
        "    del A[-1]\n",
        "    return mn,max_heapify(A,0)\n",
        "\n",
        "\n",
        "def heap_sort(A):\n",
        "    ans = []\n",
        "    A_heap = build_heap(A,len(A))\n",
        "\n",
        "    for i in range(len(A)-1):\n",
        "        mn, A = extract_max(A)\n",
        "        ans += [mn]\n",
        "    print(ans)\n",
        "\n",
        "heap_sort(li)"
      ],
      "execution_count": 7,
      "outputs": [
        {
          "output_type": "stream",
          "text": [
            "['x', 1, 2, 3, 5, 8, 10, 7]\n",
            "Heap ['x', 10, 8, 7, 5, 2, 3, 1] ['x', 1, 2, 3, 5, 8, 10, 7]\n",
            "['x', 10, 8, 7, 5, 3, 2]\n"
          ],
          "name": "stdout"
        }
      ]
    }
  ]
}