{
  "nbformat": 4,
  "nbformat_minor": 0,
  "metadata": {
    "colab": {
      "name": "Stack_Queue.ipynb",
      "provenance": [],
      "collapsed_sections": []
    },
    "kernelspec": {
      "name": "python3",
      "display_name": "Python 3"
    }
  },
  "cells": [
    {
      "cell_type": "markdown",
      "metadata": {
        "id": "7fdHvhPXscWo",
        "colab_type": "text"
      },
      "source": [
        "Stack and queue both are a linear type of data structures both are used to store data in linear fashion.\n",
        "\n",
        "The basic difference between this two is\n",
        "\n",
        "* Stack stores data in LIFO manner it means last in first out. Last element push in the stack will be pop first. Push means insert an element into the stack and pop means delete an element from the stack. All the elements insert at the top of the stack and delete at top of the stack. We can implement stack with linked list.\n",
        "\n",
        "* Queue stores data in FIFO manner it means first in first out. For example line of students for registration first come student will be registere first. It means first enqueued element Will be dequeue first. Enqueue means insert an element in the queue and dequeue means delete an element from the queue. All the elements will be interest at rear and deleted from the front. We can implement queue with linked list."
      ]
    },
    {
      "cell_type": "markdown",
      "metadata": {
        "id": "Xgseiki0jax7",
        "colab_type": "text"
      },
      "source": [
        "**Stack using List**"
      ]
    },
    {
      "cell_type": "code",
      "metadata": {
        "id": "HD5juC8oXb4D",
        "colab_type": "code",
        "colab": {}
      },
      "source": [
        "stack = []\n",
        "\n",
        "# Stack: [1, 2, 3, 4, 5, 6] <= Top"
      ],
      "execution_count": 3,
      "outputs": []
    },
    {
      "cell_type": "code",
      "metadata": {
        "id": "0R967SzljnZG",
        "colab_type": "code",
        "colab": {}
      },
      "source": [
        "def push(val):\n",
        "    stack.append(val)\n",
        "\n",
        "def pop():\n",
        "    if len(stack)>0:\n",
        "        val = stack.pop()\n",
        "        return val\n",
        "    else:\n",
        "        print(\"Stack is Empty\")\n",
        "\n",
        "def show_stack():\n",
        "    print(stack)"
      ],
      "execution_count": 4,
      "outputs": []
    },
    {
      "cell_type": "code",
      "metadata": {
        "id": "bBXIzBQbjsyi",
        "colab_type": "code",
        "colab": {}
      },
      "source": [
        "# Inserting Values to Stack\n",
        "\n",
        "push(1)\n",
        "push(2)\n",
        "push(3)\n",
        "push(4)\n",
        "push(5)\n",
        "push(6)"
      ],
      "execution_count": 5,
      "outputs": []
    },
    {
      "cell_type": "code",
      "metadata": {
        "id": "FVDTZ8lGljup",
        "colab_type": "code",
        "colab": {
          "base_uri": "https://localhost:8080/",
          "height": 34
        },
        "outputId": "371f16cf-80b6-43b1-eee0-362ffcd8d239"
      },
      "source": [
        "# Show Contents of Stack\n",
        "\n",
        "show_stack()"
      ],
      "execution_count": 6,
      "outputs": [
        {
          "output_type": "stream",
          "text": [
            "[1, 2, 3, 4, 5, 6]\n"
          ],
          "name": "stdout"
        }
      ]
    },
    {
      "cell_type": "code",
      "metadata": {
        "id": "qetMhKRdl4BU",
        "colab_type": "code",
        "colab": {
          "base_uri": "https://localhost:8080/",
          "height": 34
        },
        "outputId": "47eece9c-798d-48f8-82f6-8ae165f92b33"
      },
      "source": [
        "# Delete elements from stack\n",
        "\n",
        "val = pop()\n",
        "print(val)"
      ],
      "execution_count": 7,
      "outputs": [
        {
          "output_type": "stream",
          "text": [
            "6\n"
          ],
          "name": "stdout"
        }
      ]
    },
    {
      "cell_type": "code",
      "metadata": {
        "id": "iDSGgDsXl7Ts",
        "colab_type": "code",
        "colab": {
          "base_uri": "https://localhost:8080/",
          "height": 85
        },
        "outputId": "b2c2571c-853a-4d3e-ac22-5b51b2dafc1c"
      },
      "source": [
        "val = pop()\n",
        "print(val)\n",
        "\n",
        "val = pop()\n",
        "print(val)\n",
        "\n",
        "val = pop()\n",
        "print(val)\n",
        "\n",
        "val = pop()\n",
        "print(val)\n",
        "\n",
        "val = pop()"
      ],
      "execution_count": 8,
      "outputs": [
        {
          "output_type": "stream",
          "text": [
            "5\n",
            "4\n",
            "3\n",
            "2\n"
          ],
          "name": "stdout"
        }
      ]
    },
    {
      "cell_type": "markdown",
      "metadata": {
        "id": "JE9_l6Vzl_gO",
        "colab_type": "text"
      },
      "source": [
        "**Queue using List**"
      ]
    },
    {
      "cell_type": "code",
      "metadata": {
        "id": "MXIp8b6tmDdp",
        "colab_type": "code",
        "colab": {}
      },
      "source": [
        "queue = []\n",
        "\n",
        "# Front [1, 2, 3, 4]  # Rear"
      ],
      "execution_count": 9,
      "outputs": []
    },
    {
      "cell_type": "code",
      "metadata": {
        "id": "69OQ4gn5mGlt",
        "colab_type": "code",
        "colab": {}
      },
      "source": [
        "# Function to Show contents of Queue\n",
        "def show_queue():\n",
        "    if len(queue)>0:\n",
        "        print(queue)\n",
        "    else:\n",
        "        print(\"Empty Queue!\")\n",
        "\n",
        "\n",
        "# Function to insert into Queue\n",
        "def enque(val):\n",
        "    queue.append(val)\n",
        "    print(\"Queue elements are: \", end=\" \")\n",
        "    show_queue()\n",
        "\n",
        "\n",
        "# Function to delete from Queue\n",
        "def dequeue():\n",
        "    if len(queue)>0:\n",
        "        val = queue.pop(0)\n",
        "    else:\n",
        "        val = -1\n",
        "    print(\"Queue elements are: \", end=\" \")\n",
        "    show_queue()    \n",
        "    return val"
      ],
      "execution_count": 10,
      "outputs": []
    },
    {
      "cell_type": "code",
      "metadata": {
        "id": "EYgozLF7mJaa",
        "colab_type": "code",
        "colab": {
          "base_uri": "https://localhost:8080/",
          "height": 102
        },
        "outputId": "4029f13a-135b-413d-de96-3d0496804d53"
      },
      "source": [
        "enque(1)\n",
        "enque(2)\n",
        "enque(3)\n",
        "enque(4)\n",
        "enque(5)"
      ],
      "execution_count": 13,
      "outputs": [
        {
          "output_type": "stream",
          "text": [
            "Queue elements are:  [1]\n",
            "Queue elements are:  [1, 2]\n",
            "Queue elements are:  [1, 2, 3]\n",
            "Queue elements are:  [1, 2, 3, 4]\n",
            "Queue elements are:  [1, 2, 3, 4, 5]\n"
          ],
          "name": "stdout"
        }
      ]
    },
    {
      "cell_type": "code",
      "metadata": {
        "id": "H_xzWOudmNKx",
        "colab_type": "code",
        "colab": {
          "base_uri": "https://localhost:8080/",
          "height": 119
        },
        "outputId": "0ba6621f-04d7-4477-c051-87d284dc2a76"
      },
      "source": [
        "dequeue()\n",
        "dequeue()\n",
        "dequeue()\n",
        "dequeue()\n",
        "dequeue()"
      ],
      "execution_count": 12,
      "outputs": [
        {
          "output_type": "stream",
          "text": [
            "Queue elements are:  [2, 3, 4, 5]\n",
            "Queue elements are:  [3, 4, 5]\n",
            "Queue elements are:  [4, 5]\n",
            "Queue elements are:  [5]\n",
            "Queue elements are:  Empty Queue!\n"
          ],
          "name": "stdout"
        },
        {
          "output_type": "execute_result",
          "data": {
            "text/plain": [
              "5"
            ]
          },
          "metadata": {
            "tags": []
          },
          "execution_count": 12
        }
      ]
    },
    {
      "cell_type": "code",
      "metadata": {
        "id": "TbVyhzZtmTeP",
        "colab_type": "code",
        "colab": {
          "base_uri": "https://localhost:8080/",
          "height": 34
        },
        "outputId": "bfb58466-7beb-40c4-dbb1-42e74887520f"
      },
      "source": [
        "show_queue()"
      ],
      "execution_count": 14,
      "outputs": [
        {
          "output_type": "stream",
          "text": [
            "[1, 2, 3, 4, 5]\n"
          ],
          "name": "stdout"
        }
      ]
    },
    {
      "cell_type": "markdown",
      "metadata": {
        "id": "6gMnWt5kmYUd",
        "colab_type": "text"
      },
      "source": [
        "**Deque using List**"
      ]
    },
    {
      "cell_type": "code",
      "metadata": {
        "id": "8Lg-Zi-lmb18",
        "colab_type": "code",
        "colab": {}
      },
      "source": [
        "deque = []"
      ],
      "execution_count": 15,
      "outputs": []
    },
    {
      "cell_type": "code",
      "metadata": {
        "id": "RsuYmvXUmfJA",
        "colab_type": "code",
        "colab": {}
      },
      "source": [
        "# Function to Show contents of Queue\n",
        "def show_deque():\n",
        "    if len(deque)>0:\n",
        "        print(deque)\n",
        "    else:\n",
        "        print(\"Empty Deque!\")"
      ],
      "execution_count": 16,
      "outputs": []
    },
    {
      "cell_type": "code",
      "metadata": {
        "id": "XNrL21Q-mjPd",
        "colab_type": "code",
        "colab": {}
      },
      "source": [
        "# Function to insert into Queue from FRONT\n",
        "def insert_front(val):\n",
        "    global deque\n",
        "    deque = [val] + deque\n",
        "    print(\"Deque elements are: \", end=\" \")\n",
        "    show_deque()\n",
        "\n",
        "# Function to insert into Queue from REAR\n",
        "def insert_rear(val):\n",
        "    deque.append(val)\n",
        "    print(\"Deque elements are: \", end=\" \")\n",
        "    show_deque()"
      ],
      "execution_count": 17,
      "outputs": []
    },
    {
      "cell_type": "code",
      "metadata": {
        "id": "QhYMmkI1mmfC",
        "colab_type": "code",
        "colab": {}
      },
      "source": [
        "# Function to delete from Queue from FRONT\n",
        "def deque_front():\n",
        "    if len(deque)>0:\n",
        "        val = deque.pop(0)\n",
        "    else:\n",
        "        val = -1\n",
        "    print(\"Deque elements are: \", end=\" \")\n",
        "    show_deque()    \n",
        "    return val  \n",
        "\n",
        "\n",
        "# Function to delete from Queue from REAR\n",
        "def deque_rear():\n",
        "    if len(deque)>0:\n",
        "        val = deque.pop(-1)\n",
        "    else:\n",
        "        val = -1\n",
        "    print(\"Deque elements are: \", end=\" \")\n",
        "    show_deque()    \n",
        "    return val"
      ],
      "execution_count": 18,
      "outputs": []
    },
    {
      "cell_type": "code",
      "metadata": {
        "id": "Yi8_bTuxmpo8",
        "colab_type": "code",
        "colab": {
          "base_uri": "https://localhost:8080/",
          "height": 119
        },
        "outputId": "01be7359-281e-409c-a802-61d8867fd798"
      },
      "source": [
        "insert_front(1)\n",
        "insert_front(2)\n",
        "insert_front(3)\n",
        "\n",
        "\n",
        "insert_rear(3)\n",
        "insert_rear(2)\n",
        "insert_rear(1)"
      ],
      "execution_count": 19,
      "outputs": [
        {
          "output_type": "stream",
          "text": [
            "Deque elements are:  [1]\n",
            "Deque elements are:  [2, 1]\n",
            "Deque elements are:  [3, 2, 1]\n",
            "Deque elements are:  [3, 2, 1, 3]\n",
            "Deque elements are:  [3, 2, 1, 3, 2]\n",
            "Deque elements are:  [3, 2, 1, 3, 2, 1]\n"
          ],
          "name": "stdout"
        }
      ]
    },
    {
      "cell_type": "code",
      "metadata": {
        "id": "M8Ty8k1wmr88",
        "colab_type": "code",
        "colab": {
          "base_uri": "https://localhost:8080/",
          "height": 34
        },
        "outputId": "93dd2cdb-100d-4011-b2f4-5a68e23db732"
      },
      "source": [
        "show_deque()"
      ],
      "execution_count": 20,
      "outputs": [
        {
          "output_type": "stream",
          "text": [
            "[3, 2, 1, 3, 2, 1]\n"
          ],
          "name": "stdout"
        }
      ]
    },
    {
      "cell_type": "code",
      "metadata": {
        "id": "-QKyI9ZgmvDe",
        "colab_type": "code",
        "colab": {
          "base_uri": "https://localhost:8080/",
          "height": 102
        },
        "outputId": "0d8b26f3-27d9-41b4-cc30-03cd1ecd577a"
      },
      "source": [
        "deque_front()\n",
        "deque_front()\n",
        "\n",
        "deque_rear()\n",
        "deque_rear()"
      ],
      "execution_count": 21,
      "outputs": [
        {
          "output_type": "stream",
          "text": [
            "Deque elements are:  [2, 1, 3, 2, 1]\n",
            "Deque elements are:  [1, 3, 2, 1]\n",
            "Deque elements are:  [1, 3, 2]\n",
            "Deque elements are:  [1, 3]\n"
          ],
          "name": "stdout"
        },
        {
          "output_type": "execute_result",
          "data": {
            "text/plain": [
              "2"
            ]
          },
          "metadata": {
            "tags": []
          },
          "execution_count": 21
        }
      ]
    },
    {
      "cell_type": "code",
      "metadata": {
        "id": "rm2YIaS3mxb-",
        "colab_type": "code",
        "colab": {
          "base_uri": "https://localhost:8080/",
          "height": 34
        },
        "outputId": "f9bea85b-4ef9-4bc1-ec71-00b6e33d9fe8"
      },
      "source": [
        "show_deque()"
      ],
      "execution_count": 22,
      "outputs": [
        {
          "output_type": "stream",
          "text": [
            "[1, 3]\n"
          ],
          "name": "stdout"
        }
      ]
    },
    {
      "cell_type": "markdown",
      "metadata": {
        "id": "qym-5QPysoWn",
        "colab_type": "text"
      },
      "source": [
        "Deque is also a Queue data structure in which the insertion and deletion operations are performed at both the ends (front and rear).\n",
        "\n",
        "Queue is who ever gets in first gets out first i.e First In First Out(FIFO). like a line in front of a super market counter.\n",
        "\n",
        "For example : It is used when there is a single resource(cashier) who has to do the tasks(billing) of all the requests(shoppers in line who want to get the items billed)\n",
        "\n",
        "Deque is double ended queue i.e the elements can be added or removed at either end of the line.\n",
        "\n",
        "For example : It is used in situations when there are multiple requests(customers who want their items to be billed) but the contract is such that as soon as the cashier from other counter completes all the requests he can take over the left over requests(customers) from the opposite end of the line. This helps to use up the resource efficiently and requests are cleared at a faster rate."
      ]
    }
  ]
}