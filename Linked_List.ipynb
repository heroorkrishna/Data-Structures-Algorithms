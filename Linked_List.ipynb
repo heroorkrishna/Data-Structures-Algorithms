{
  "nbformat": 4,
  "nbformat_minor": 0,
  "metadata": {
    "colab": {
      "name": "Linked List.ipynb",
      "provenance": []
    },
    "kernelspec": {
      "name": "python3",
      "display_name": "Python 3"
    }
  },
  "cells": [
    {
      "cell_type": "markdown",
      "metadata": {
        "id": "mslfeGOJKMeo",
        "colab_type": "text"
      },
      "source": [
        "**What is linked list?**\n",
        "\n",
        "Linked List is a linear data structure and it is very common data structure which consists of group of nodes in a sequence which is divided in two parts. Each node consists of its own data and the address of the next node and forms a chain. Linked Lists are used to create trees and graphs.\n",
        "\n",
        "**Types of Linked Lists:**\n",
        "\n",
        "* Singly Linked List\n",
        "* Doubly Linked List\n",
        "* Circular Linked List \n",
        "\n"
      ]
    },
    {
      "cell_type": "markdown",
      "metadata": {
        "id": "efyzkWilMUp4",
        "colab_type": "text"
      },
      "source": [
        "* Singly Linked List :Singly linked lists contain nodes which have a data part as well as an address part i.e. next, which points to the next node in sequence of nodes. The operations we can perform on singly linked lists are insertion, deletion and traversal.\n",
        "* Doubly Linked List:- In a doubly linked list, each node contains two links the first link points to the previous node and the next link points to the next node in the sequence.\\\n",
        "* Circular Linked List : In the circular linked list the last node of the list contains the address of the first node and forms a circular chain."
      ]
    },
    {
      "cell_type": "code",
      "metadata": {
        "id": "WDTs4OcMKKkf",
        "colab_type": "code",
        "colab": {}
      },
      "source": [
        "# Defining Classes for Nodes and Linked Lists\n",
        "\n",
        "class Node:\n",
        "    def __init__(self, data=None):\n",
        "        self.data = data\n",
        "        self.next_node = None\n",
        "\n",
        "class SingleLinkedList:\n",
        "    def __init__(self):\n",
        "        self.head=None\n",
        "\n",
        "SLlist = SingleLinkedList()"
      ],
      "execution_count": 1,
      "outputs": []
    },
    {
      "cell_type": "code",
      "metadata": {
        "id": "_Oh3kzbqLRWX",
        "colab_type": "code",
        "colab": {}
      },
      "source": [
        "# Function to print elements of Linked List\n",
        "\n",
        "def print_LL():\n",
        "    if SLlist.head:\n",
        "        print(\"Values in Linked List\")\n",
        "        ptr = SLlist.head\n",
        "        while ptr:\n",
        "            print(ptr.data, \"->\", end=\" \")\n",
        "            ptr = ptr.next_node\n",
        "        print(\"\\\\0\")\n",
        "    else:\n",
        "        print(\"List is Empty!\")"
      ],
      "execution_count": 2,
      "outputs": []
    },
    {
      "cell_type": "code",
      "metadata": {
        "id": "fTptGOOaLUmk",
        "colab_type": "code",
        "colab": {}
      },
      "source": [
        "# Insert new node at End\n",
        "\n",
        "def NewNode_at_End(data):\n",
        "    if SLlist.head:\n",
        "        ptr = SLlist.head\n",
        "        while ptr.next_node:\n",
        "            ptr = ptr.next_node\n",
        "        new_node = Node(data)\n",
        "        ptr.next_node = new_node\n",
        "    else:\n",
        "        new_node = Node(data)    \n",
        "        SLlist.head = new_node\n",
        "    \n",
        "    print(\"Node Inserted Succesfully\\n\\n\")\n",
        "    print_LL()"
      ],
      "execution_count": 3,
      "outputs": []
    },
    {
      "cell_type": "code",
      "metadata": {
        "id": "kuNgInNALXSV",
        "colab_type": "code",
        "colab": {}
      },
      "source": [
        "# Insert new node at Beginning\n",
        "\n",
        "def NewNode_at_Beginning(data):\n",
        "    new_node = Node(data)\n",
        "    if SLlist.head:\n",
        "        new_node.next_node = SLlist.head\n",
        "    SLlist.head = new_node\n",
        "    \n",
        "    print(\"Node Inserted Succesfully\\n\\n\")\n",
        "    print_LL()"
      ],
      "execution_count": 4,
      "outputs": []
    },
    {
      "cell_type": "code",
      "metadata": {
        "id": "G9rXzLLYLak7",
        "colab_type": "code",
        "colab": {}
      },
      "source": [
        "# Function to search \"node_value\" in Linked List\n",
        "\n",
        "def search_element(node_value):\n",
        "    if SLlist.head:\n",
        "        print(\"Searching Linearly in Linked List\")\n",
        "        ptr = SLlist.head\n",
        "        while ptr:\n",
        "            if ptr.data == node_value:\n",
        "                print(\"Value Found!\")\n",
        "                return\n",
        "            ptr = ptr.next_node\n",
        "        print(\"Node Value not in Linked List!\")    \n",
        "    else:\n",
        "        print(\"Linked List is Empty!\")"
      ],
      "execution_count": 5,
      "outputs": []
    },
    {
      "cell_type": "code",
      "metadata": {
        "id": "o1IRxHnFLeco",
        "colab_type": "code",
        "colab": {}
      },
      "source": [
        "# Function to delete first occurence of \"node_value\" from Linked List\n",
        "\n",
        "def delete_element(node_value):\n",
        "    if SLlist.head:\n",
        "        print(\"Searching Linearly in Linked List\")\n",
        "        ptr = SLlist.head\n",
        "        prev_ptr = None\n",
        "        while ptr:\n",
        "            if ptr.data == node_value:\n",
        "                if prev_ptr:\n",
        "                    prev_ptr.next_node = ptr.next_node\n",
        "                    del ptr\n",
        "                else:\n",
        "                    SLlist.head = ptr.next_node\n",
        "                    del ptr\n",
        "                print(\"Node Deleted!\\n\")\n",
        "                print_LL()\n",
        "                return\n",
        "            prev_ptr = ptr\n",
        "            ptr = ptr.next_node\n",
        "        print(\"Node Value not in Linked List!\")       \n",
        "    else:\n",
        "        print(\"Linked List is Empty\")"
      ],
      "execution_count": 6,
      "outputs": []
    },
    {
      "cell_type": "code",
      "metadata": {
        "id": "GAFAg9ArLhXG",
        "colab_type": "code",
        "colab": {
          "base_uri": "https://localhost:8080/",
          "height": 272
        },
        "outputId": "f812dcd7-e155-4c11-f75b-d9fb84e09cf9"
      },
      "source": [
        "# Inserting values at End\n",
        "\n",
        "NewNode_at_End(5)\n",
        "NewNode_at_End(4)\n",
        "NewNode_at_End(3)"
      ],
      "execution_count": 7,
      "outputs": [
        {
          "output_type": "stream",
          "text": [
            "Node Inserted Succesfully\n",
            "\n",
            "\n",
            "Values in Linked List\n",
            "5 -> \\0\n",
            "Node Inserted Succesfully\n",
            "\n",
            "\n",
            "Values in Linked List\n",
            "5 -> 4 -> \\0\n",
            "Node Inserted Succesfully\n",
            "\n",
            "\n",
            "Values in Linked List\n",
            "5 -> 4 -> 3 -> \\0\n"
          ],
          "name": "stdout"
        }
      ]
    },
    {
      "cell_type": "code",
      "metadata": {
        "id": "RwxitaEtLmIf",
        "colab_type": "code",
        "colab": {
          "base_uri": "https://localhost:8080/",
          "height": 272
        },
        "outputId": "0f09dfef-c495-4325-c095-47d9c6a2ce85"
      },
      "source": [
        "# Inserting values at Beginning\n",
        "\n",
        "NewNode_at_Beginning(1)\n",
        "NewNode_at_Beginning(2)\n",
        "NewNode_at_Beginning(3)"
      ],
      "execution_count": 8,
      "outputs": [
        {
          "output_type": "stream",
          "text": [
            "Node Inserted Succesfully\n",
            "\n",
            "\n",
            "Values in Linked List\n",
            "1 -> 5 -> 4 -> 3 -> \\0\n",
            "Node Inserted Succesfully\n",
            "\n",
            "\n",
            "Values in Linked List\n",
            "2 -> 1 -> 5 -> 4 -> 3 -> \\0\n",
            "Node Inserted Succesfully\n",
            "\n",
            "\n",
            "Values in Linked List\n",
            "3 -> 2 -> 1 -> 5 -> 4 -> 3 -> \\0\n"
          ],
          "name": "stdout"
        }
      ]
    },
    {
      "cell_type": "code",
      "metadata": {
        "id": "2ohzgQH8Lpnb",
        "colab_type": "code",
        "colab": {
          "base_uri": "https://localhost:8080/",
          "height": 51
        },
        "outputId": "68d64461-b378-4723-a3f9-2f8b680a2f55"
      },
      "source": [
        "search_element(5)"
      ],
      "execution_count": 9,
      "outputs": [
        {
          "output_type": "stream",
          "text": [
            "Searching Linearly in Linked List\n",
            "Value Found!\n"
          ],
          "name": "stdout"
        }
      ]
    },
    {
      "cell_type": "code",
      "metadata": {
        "id": "OnBJYkyILuMp",
        "colab_type": "code",
        "colab": {
          "base_uri": "https://localhost:8080/",
          "height": 51
        },
        "outputId": "0f56fe97-50b7-48c4-90fb-e176c24bf55e"
      },
      "source": [
        "search_element(6)"
      ],
      "execution_count": 10,
      "outputs": [
        {
          "output_type": "stream",
          "text": [
            "Searching Linearly in Linked List\n",
            "Node Value not in Linked List!\n"
          ],
          "name": "stdout"
        }
      ]
    },
    {
      "cell_type": "code",
      "metadata": {
        "id": "BtAq71G2LxIs",
        "colab_type": "code",
        "colab": {
          "base_uri": "https://localhost:8080/",
          "height": 51
        },
        "outputId": "e7b8ea20-0d32-466f-bdb4-2182def25841"
      },
      "source": [
        "print_LL()"
      ],
      "execution_count": 11,
      "outputs": [
        {
          "output_type": "stream",
          "text": [
            "Values in Linked List\n",
            "3 -> 2 -> 1 -> 5 -> 4 -> 3 -> \\0\n"
          ],
          "name": "stdout"
        }
      ]
    },
    {
      "cell_type": "code",
      "metadata": {
        "id": "Io-jsO96L1p9",
        "colab_type": "code",
        "colab": {
          "base_uri": "https://localhost:8080/",
          "height": 102
        },
        "outputId": "b3af6985-6694-4ccc-db2b-4638fd11cb9a"
      },
      "source": [
        "delete_element(2)"
      ],
      "execution_count": 12,
      "outputs": [
        {
          "output_type": "stream",
          "text": [
            "Searching Linearly in Linked List\n",
            "Node Deleted!\n",
            "\n",
            "Values in Linked List\n",
            "3 -> 1 -> 5 -> 4 -> 3 -> \\0\n"
          ],
          "name": "stdout"
        }
      ]
    },
    {
      "cell_type": "code",
      "metadata": {
        "id": "Rrx2hifJL4fS",
        "colab_type": "code",
        "colab": {
          "base_uri": "https://localhost:8080/",
          "height": 102
        },
        "outputId": "7e474acb-bbd6-426d-a0de-8000036033bf"
      },
      "source": [
        "delete_element(5)"
      ],
      "execution_count": 13,
      "outputs": [
        {
          "output_type": "stream",
          "text": [
            "Searching Linearly in Linked List\n",
            "Node Deleted!\n",
            "\n",
            "Values in Linked List\n",
            "3 -> 1 -> 4 -> 3 -> \\0\n"
          ],
          "name": "stdout"
        }
      ]
    },
    {
      "cell_type": "code",
      "metadata": {
        "id": "7wivfjwhL6we",
        "colab_type": "code",
        "colab": {
          "base_uri": "https://localhost:8080/",
          "height": 51
        },
        "outputId": "97609c07-53f6-43d7-92e1-73295055f7ba"
      },
      "source": [
        "delete_element(10)"
      ],
      "execution_count": 14,
      "outputs": [
        {
          "output_type": "stream",
          "text": [
            "Searching Linearly in Linked List\n",
            "Node Value not in Linked List!\n"
          ],
          "name": "stdout"
        }
      ]
    }
  ]
}